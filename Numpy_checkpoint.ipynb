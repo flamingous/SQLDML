{
 "cells": [
  {
   "cell_type": "code",
   "execution_count": 2,
   "id": "beff4935-8dc3-4c96-95b6-d3fa60fbc124",
   "metadata": {},
   "outputs": [],
   "source": [
    "import numpy as np"
   ]
  },
  {
   "cell_type": "code",
   "execution_count": 3,
   "id": "5a212f8e-550f-46e6-9d59-ba706e9d65be",
   "metadata": {},
   "outputs": [
    {
     "data": {
      "text/plain": [
       "array([85, 90, 88, 92, 95, 80, 75, 98, 89, 83])"
      ]
     },
     "execution_count": 3,
     "metadata": {},
     "output_type": "execute_result"
    }
   ],
   "source": [
    "grades = np.array([85,90,88,92,95,80,75,98,89,83])\n",
    "grades"
   ]
  },
  {
   "cell_type": "code",
   "execution_count": 4,
   "id": "f24ede83-9133-4549-a9c5-1edb9d7e9895",
   "metadata": {},
   "outputs": [
    {
     "name": "stdout",
     "output_type": "stream",
     "text": [
      "87.5\n"
     ]
    }
   ],
   "source": [
    "mean = np.mean(grades)\n",
    "print(mean)"
   ]
  },
  {
   "cell_type": "code",
   "execution_count": 5,
   "id": "0447db15-a85a-465d-82cb-0bc73efd14ea",
   "metadata": {},
   "outputs": [
    {
     "name": "stdout",
     "output_type": "stream",
     "text": [
      "88.5\n"
     ]
    }
   ],
   "source": [
    "median = np.median(grades)\n",
    "print(median)"
   ]
  },
  {
   "cell_type": "code",
   "execution_count": 6,
   "id": "442cbb35-f219-4fc1-83c1-2294adbaecc7",
   "metadata": {},
   "outputs": [
    {
     "name": "stdout",
     "output_type": "stream",
     "text": [
      "6.591661399070799\n"
     ]
    }
   ],
   "source": [
    "std = np.std(grades)\n",
    "print(std)"
   ]
  },
  {
   "cell_type": "code",
   "execution_count": 7,
   "id": "48563a45-f999-49f9-9a35-921d1dba0d14",
   "metadata": {},
   "outputs": [
    {
     "name": "stdout",
     "output_type": "stream",
     "text": [
      "75\n"
     ]
    }
   ],
   "source": [
    "minimum = np.min(grades)\n",
    "print(minimum)"
   ]
  },
  {
   "cell_type": "code",
   "execution_count": 8,
   "id": "9468dfde-edca-49bb-8046-4f007aba7dc2",
   "metadata": {},
   "outputs": [
    {
     "name": "stdout",
     "output_type": "stream",
     "text": [
      "98\n"
     ]
    }
   ],
   "source": [
    "maximum = np.max(grades)\n",
    "print(maximum)"
   ]
  },
  {
   "cell_type": "code",
   "execution_count": 10,
   "id": "95fdc4cb-aeee-4dc8-9ddf-fc6d1d3aceeb",
   "metadata": {},
   "outputs": [
    {
     "name": "stdout",
     "output_type": "stream",
     "text": [
      "[75 80 83 85 88 89 90 92 95 98]\n"
     ]
    }
   ],
   "source": [
    "grades.sort()\n",
    "print(grades)"
   ]
  },
  {
   "cell_type": "code",
   "execution_count": 11,
   "id": "17e9c525-e579-4869-a151-bff0dc4d5a72",
   "metadata": {},
   "outputs": [
    {
     "name": "stdout",
     "output_type": "stream",
     "text": [
      "9\n"
     ]
    }
   ],
   "source": [
    "index_highest = np.argmax(grades)\n",
    "print(index_highest)"
   ]
  },
  {
   "cell_type": "code",
   "execution_count": 15,
   "id": "9dc2fc8b-fcd9-45d1-b782-e34efb493110",
   "metadata": {},
   "outputs": [
    {
     "name": "stdout",
     "output_type": "stream",
     "text": [
      "3\n"
     ]
    }
   ],
   "source": [
    "greater_than_90 = np.where(grades > 90)\n",
    "print(np.count_nonzero(greater_than_90))"
   ]
  },
  {
   "cell_type": "code",
   "execution_count": 17,
   "id": "cd2a6a4b-84ed-4860-a249-4264b6edfa17",
   "metadata": {},
   "outputs": [
    {
     "name": "stdout",
     "output_type": "stream",
     "text": [
      "30.0\n"
     ]
    }
   ],
   "source": [
    "percentage_above_90 = (np.mean(grades > 90) * 100)\n",
    "print(percentage_above_90)"
   ]
  },
  {
   "cell_type": "code",
   "execution_count": 18,
   "id": "37668004-f3aa-456b-a36e-9730ae953935",
   "metadata": {},
   "outputs": [
    {
     "name": "stdout",
     "output_type": "stream",
     "text": [
      "[92 95 98]\n"
     ]
    }
   ],
   "source": [
    "high_performers = grades[grades > 90]\n",
    "print(high_performers)"
   ]
  },
  {
   "cell_type": "code",
   "execution_count": 19,
   "id": "72ee911c-5e2b-4fb2-a28e-aa9882caa857",
   "metadata": {},
   "outputs": [
    {
     "name": "stdout",
     "output_type": "stream",
     "text": [
      "[80 83 85 88 89 90 92 95 98]\n"
     ]
    }
   ],
   "source": [
    "passing_grades = grades[grades > 75]\n",
    "print(passing_grades)"
   ]
  },
  {
   "cell_type": "code",
   "execution_count": null,
   "id": "4e180d9d-538b-4b45-9086-2555dff06872",
   "metadata": {},
   "outputs": [],
   "source": []
  }
 ],
 "metadata": {
  "kernelspec": {
   "display_name": "Python 3 (ipykernel)",
   "language": "python",
   "name": "python3"
  },
  "language_info": {
   "codemirror_mode": {
    "name": "ipython",
    "version": 3
   },
   "file_extension": ".py",
   "mimetype": "text/x-python",
   "name": "python",
   "nbconvert_exporter": "python",
   "pygments_lexer": "ipython3",
   "version": "3.12.7"
  }
 },
 "nbformat": 4,
 "nbformat_minor": 5
}
